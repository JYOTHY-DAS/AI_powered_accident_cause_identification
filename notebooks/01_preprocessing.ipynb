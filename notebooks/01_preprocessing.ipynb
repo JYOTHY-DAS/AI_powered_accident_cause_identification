{
 "cells": [
  {
   "cell_type": "markdown",
   "metadata": {},
   "source": [
    "## Import library files"
   ]
  },
  {
   "cell_type": "code",
   "execution_count": 2,
   "metadata": {},
   "outputs": [],
   "source": [
    "import pandas as pd\n",
    "import re\n",
    "import spacy\n",
    "from nltk.corpus import stopwords\n",
    "import os\n",
    "import joblib"
   ]
  },
  {
   "cell_type": "markdown",
   "metadata": {},
   "source": [
    "## Load data"
   ]
  },
  {
   "cell_type": "code",
   "execution_count": 3,
   "metadata": {},
   "outputs": [
    {
     "data": {
      "text/html": [
       "<div>\n",
       "<style scoped>\n",
       "    .dataframe tbody tr th:only-of-type {\n",
       "        vertical-align: middle;\n",
       "    }\n",
       "\n",
       "    .dataframe tbody tr th {\n",
       "        vertical-align: top;\n",
       "    }\n",
       "\n",
       "    .dataframe thead th {\n",
       "        text-align: right;\n",
       "    }\n",
       "</style>\n",
       "<table border=\"1\" class=\"dataframe\">\n",
       "  <thead>\n",
       "    <tr style=\"text-align: right;\">\n",
       "      <th></th>\n",
       "      <th>Accident Report</th>\n",
       "      <th>Primary Cause</th>\n",
       "      <th>Secondary Cause</th>\n",
       "      <th>Risk Factor</th>\n",
       "    </tr>\n",
       "  </thead>\n",
       "  <tbody>\n",
       "    <tr>\n",
       "      <th>0</th>\n",
       "      <td>On 19 Sep 2023, at 02:43 AM, a Jeep collided w...</td>\n",
       "      <td>Wrong side driving</td>\n",
       "      <td>Seatbelt Violation</td>\n",
       "      <td>Medium</td>\n",
       "    </tr>\n",
       "    <tr>\n",
       "      <th>1</th>\n",
       "      <td>On 08 Jul 2023, at 10:29 AM, a two-wheeler col...</td>\n",
       "      <td>Drunk driving</td>\n",
       "      <td>No Violation</td>\n",
       "      <td>High</td>\n",
       "    </tr>\n",
       "    <tr>\n",
       "      <th>2</th>\n",
       "      <td>On 12 Oct 2023, at 11:07 PM, a car collided wi...</td>\n",
       "      <td>Distracted driving</td>\n",
       "      <td>No Violation</td>\n",
       "      <td>High</td>\n",
       "    </tr>\n",
       "    <tr>\n",
       "      <th>3</th>\n",
       "      <td>On 06 May 2023, at 07:51 PM, a truck collided ...</td>\n",
       "      <td>Distracted driving</td>\n",
       "      <td>Seatbelt Violation</td>\n",
       "      <td>High</td>\n",
       "    </tr>\n",
       "    <tr>\n",
       "      <th>4</th>\n",
       "      <td>On 12 Nov 2024, at 06:02 PM, a Jeep collided w...</td>\n",
       "      <td>Vehicle malfunction</td>\n",
       "      <td>No Violation</td>\n",
       "      <td>High</td>\n",
       "    </tr>\n",
       "  </tbody>\n",
       "</table>\n",
       "</div>"
      ],
      "text/plain": [
       "                                     Accident Report        Primary Cause  \\\n",
       "0  On 19 Sep 2023, at 02:43 AM, a Jeep collided w...   Wrong side driving   \n",
       "1  On 08 Jul 2023, at 10:29 AM, a two-wheeler col...        Drunk driving   \n",
       "2  On 12 Oct 2023, at 11:07 PM, a car collided wi...   Distracted driving   \n",
       "3  On 06 May 2023, at 07:51 PM, a truck collided ...   Distracted driving   \n",
       "4  On 12 Nov 2024, at 06:02 PM, a Jeep collided w...  Vehicle malfunction   \n",
       "\n",
       "      Secondary Cause Risk Factor  \n",
       "0  Seatbelt Violation      Medium  \n",
       "1        No Violation        High  \n",
       "2        No Violation        High  \n",
       "3  Seatbelt Violation        High  \n",
       "4        No Violation        High  "
      ]
     },
     "metadata": {},
     "output_type": "display_data"
    },
    {
     "name": "stdout",
     "output_type": "stream",
     "text": [
      "(20000, 4)\n"
     ]
    }
   ],
   "source": [
    "# Define the relative path from the 'notebooks' folder to 'data/raw/'\n",
    "data_path = os.path.join(\"..\", \"data\", \"raw\", \"supervised_accident_data.csv\")\n",
    "\n",
    "# Load the dataset\n",
    "df = pd.read_csv(data_path)\n",
    "display(df.head()) # Show first 3 rows\n",
    "print(df.shape)"
   ]
  },
  {
   "cell_type": "markdown",
   "metadata": {},
   "source": [
    "## Check for duplicates and missing values"
   ]
  },
  {
   "cell_type": "code",
   "execution_count": 4,
   "metadata": {},
   "outputs": [
    {
     "name": "stdout",
     "output_type": "stream",
     "text": [
      "Accident Report    0\n",
      "Primary Cause      0\n",
      "Secondary Cause    0\n",
      "Risk Factor        0\n",
      "dtype: int64\n",
      "0\n"
     ]
    }
   ],
   "source": [
    "print(df.isnull().sum())\n",
    "print(df.duplicated().sum())"
   ]
  },
  {
   "cell_type": "markdown",
   "metadata": {},
   "source": [
    "# Check the distribution of the 'Primary cause' column"
   ]
  },
  {
   "cell_type": "code",
   "execution_count": 5,
   "metadata": {},
   "outputs": [
    {
     "name": "stderr",
     "output_type": "stream",
     "text": [
      "C:\\Users\\Jyothy\\AppData\\Local\\Temp\\ipykernel_5352\\4144102907.py:5: FutureWarning: \n",
      "\n",
      "Passing `palette` without assigning `hue` is deprecated and will be removed in v0.14.0. Assign the `x` variable to `hue` and set `legend=False` for the same effect.\n",
      "\n",
      "  sns.countplot(x='Primary Cause', data=df, palette='viridis')\n"
     ]
    },
    {
     "data": {
      "image/png": "[encoded data removed]",
      "text/plain": [
       "<Figure size 1000x500 with 1 Axes>"
      ]
     },
     "metadata": {},
     "output_type": "display_data"
    }
   ],
   "source": [
    "import seaborn as sns\n",
    "import matplotlib.pyplot as plt\n",
    "\n",
    "plt.figure(figsize=(10,5))\n",
    "sns.countplot(x='Primary Cause', data=df, palette='viridis')\n",
    "plt.xticks(rotation=45)\n",
    "plt.title('Primary Cause Category Distribution')\n",
    "plt.show()\n"
   ]
  },
  {
   "cell_type": "markdown",
   "metadata": {},
   "source": [
    "### There is no data imbalance"
   ]
  },
  {
   "cell_type": "code",
   "execution_count": 6,
   "metadata": {},
   "outputs": [
    {
     "name": "stderr",
     "output_type": "stream",
     "text": [
      "C:\\Users\\Jyothy\\AppData\\Local\\Temp\\ipykernel_5352\\705571202.py:5: FutureWarning: \n",
      "\n",
      "Passing `palette` without assigning `hue` is deprecated and will be removed in v0.14.0. Assign the `x` variable to `hue` and set `legend=False` for the same effect.\n",
      "\n",
      "  sns.countplot(x='Secondary Cause', data=df, palette='viridis')\n"
     ]
    },
    {
     "data": {
      "image/png": "[encoded data removed]",
      "text/plain": [
       "<Figure size 800x300 with 1 Axes>"
      ]
     },
     "metadata": {},
     "output_type": "display_data"
    }
   ],
   "source": [
    "import seaborn as sns\n",
    "import matplotlib.pyplot as plt\n",
    "\n",
    "plt.figure(figsize=(8,3))\n",
    "sns.countplot(x='Secondary Cause', data=df, palette='viridis')\n",
    "plt.xticks(rotation=45)\n",
    "plt.title('Secondary Cause Category Distribution')\n",
    "plt.show()"
   ]
  },
  {
   "cell_type": "code",
   "execution_count": 7,
   "metadata": {},
   "outputs": [
    {
     "name": "stderr",
     "output_type": "stream",
     "text": [
      "C:\\Users\\Jyothy\\AppData\\Local\\Temp\\ipykernel_5352\\2900823562.py:5: FutureWarning: \n",
      "\n",
      "Passing `palette` without assigning `hue` is deprecated and will be removed in v0.14.0. Assign the `x` variable to `hue` and set `legend=False` for the same effect.\n",
      "\n",
      "  sns.countplot(x='Risk Factor', data=df, palette='viridis')\n"
     ]
    },
    {
     "data": {
      "image/png": "[encoded data removed]",
      "text/plain": [
       "<Figure size 800x300 with 1 Axes>"
      ]
     },
     "metadata": {},
     "output_type": "display_data"
    }
   ],
   "source": [
    "import seaborn as sns\n",
    "import matplotlib.pyplot as plt\n",
    "\n",
    "plt.figure(figsize=(8,3))\n",
    "sns.countplot(x='Risk Factor', data=df, palette='viridis')\n",
    "plt.xticks(rotation=45)\n",
    "plt.title('Risk factor Category Distribution')\n",
    "plt.show()"
   ]
  },
  {
   "cell_type": "markdown",
   "metadata": {},
   "source": [
    "# NLP Text cleaning"
   ]
  },
  {
   "cell_type": "code",
   "execution_count": 8,
   "metadata": {},
   "outputs": [],
   "source": [
    "nlp= spacy.load(\"en_core_web_sm\")\n",
    "# Preprocessing function\n",
    "def preprocess_text(text):\n",
    "    text = text.lower()\n",
    "    text = re.sub(r'[^\\w\\s]', '', text)  # Remove punctuation\n",
    "    doc = nlp(text)\n",
    "    words = [token.lemma_.lower() for token in doc if token.text.lower() not in stopwords.words('english')]\n",
    "    return \" \".join(words)\n"
   ]
  },
  {
   "cell_type": "code",
   "execution_count": 9,
   "metadata": {},
   "outputs": [
    {
     "data": {
      "text/html": [
       "<div>\n",
       "<style scoped>\n",
       "    .dataframe tbody tr th:only-of-type {\n",
       "        vertical-align: middle;\n",
       "    }\n",
       "\n",
       "    .dataframe tbody tr th {\n",
       "        vertical-align: top;\n",
       "    }\n",
       "\n",
       "    .dataframe thead th {\n",
       "        text-align: right;\n",
       "    }\n",
       "</style>\n",
       "<table border=\"1\" class=\"dataframe\">\n",
       "  <thead>\n",
       "    <tr style=\"text-align: right;\">\n",
       "      <th></th>\n",
       "      <th>Accident Report</th>\n",
       "      <th>Primary Cause</th>\n",
       "      <th>Secondary Cause</th>\n",
       "      <th>Risk Factor</th>\n",
       "      <th>Processed Report</th>\n",
       "    </tr>\n",
       "  </thead>\n",
       "  <tbody>\n",
       "    <tr>\n",
       "      <th>0</th>\n",
       "      <td>On 19 Sep 2023, at 02:43 AM, a Jeep collided w...</td>\n",
       "      <td>Wrong side driving</td>\n",
       "      <td>Seatbelt Violation</td>\n",
       "      <td>Medium</td>\n",
       "      <td>19 sep 2023 0243 jeep collide pedestrian nh66 ...</td>\n",
       "    </tr>\n",
       "    <tr>\n",
       "      <th>1</th>\n",
       "      <td>On 08 Jul 2023, at 10:29 AM, a two-wheeler col...</td>\n",
       "      <td>Drunk driving</td>\n",
       "      <td>No Violation</td>\n",
       "      <td>High</td>\n",
       "      <td>08 jul 2023 1029 twowheeler collide pedestrian...</td>\n",
       "    </tr>\n",
       "    <tr>\n",
       "      <th>2</th>\n",
       "      <td>On 12 Oct 2023, at 11:07 PM, a car collided wi...</td>\n",
       "      <td>Distracted driving</td>\n",
       "      <td>No Violation</td>\n",
       "      <td>High</td>\n",
       "      <td>12 oct 2023 1107 pm car collide pedestrian nh5...</td>\n",
       "    </tr>\n",
       "    <tr>\n",
       "      <th>3</th>\n",
       "      <td>On 06 May 2023, at 07:51 PM, a truck collided ...</td>\n",
       "      <td>Distracted driving</td>\n",
       "      <td>Seatbelt Violation</td>\n",
       "      <td>High</td>\n",
       "      <td>06 may 2023 0751 pm truck collide pedestrian n...</td>\n",
       "    </tr>\n",
       "    <tr>\n",
       "      <th>4</th>\n",
       "      <td>On 12 Nov 2024, at 06:02 PM, a Jeep collided w...</td>\n",
       "      <td>Vehicle malfunction</td>\n",
       "      <td>No Violation</td>\n",
       "      <td>High</td>\n",
       "      <td>12 nov 2024 0602 pm jeep collide pedestrian nh...</td>\n",
       "    </tr>\n",
       "  </tbody>\n",
       "</table>\n",
       "</div>"
      ],
      "text/plain": [
       "                                     Accident Report        Primary Cause  \\\n",
       "0  On 19 Sep 2023, at 02:43 AM, a Jeep collided w...   Wrong side driving   \n",
       "1  On 08 Jul 2023, at 10:29 AM, a two-wheeler col...        Drunk driving   \n",
       "2  On 12 Oct 2023, at 11:07 PM, a car collided wi...   Distracted driving   \n",
       "3  On 06 May 2023, at 07:51 PM, a truck collided ...   Distracted driving   \n",
       "4  On 12 Nov 2024, at 06:02 PM, a Jeep collided w...  Vehicle malfunction   \n",
       "\n",
       "      Secondary Cause Risk Factor  \\\n",
       "0  Seatbelt Violation      Medium   \n",
       "1        No Violation        High   \n",
       "2        No Violation        High   \n",
       "3  Seatbelt Violation        High   \n",
       "4        No Violation        High   \n",
       "\n",
       "                                    Processed Report  \n",
       "0  19 sep 2023 0243 jeep collide pedestrian nh66 ...  \n",
       "1  08 jul 2023 1029 twowheeler collide pedestrian...  \n",
       "2  12 oct 2023 1107 pm car collide pedestrian nh5...  \n",
       "3  06 may 2023 0751 pm truck collide pedestrian n...  \n",
       "4  12 nov 2024 0602 pm jeep collide pedestrian nh...  "
      ]
     },
     "metadata": {},
     "output_type": "display_data"
    }
   ],
   "source": [
    "# Apply text preprocessing\n",
    "df['Processed Report'] = df['Accident Report'].apply(preprocess_text)\n",
    "\n",
    "# Display sample data\n",
    "display(df.head())\n"
   ]
  },
  {
   "cell_type": "code",
   "execution_count": 10,
   "metadata": {},
   "outputs": [
    {
     "data": {
      "text/html": [
       "<div>\n",
       "<style scoped>\n",
       "    .dataframe tbody tr th:only-of-type {\n",
       "        vertical-align: middle;\n",
       "    }\n",
       "\n",
       "    .dataframe tbody tr th {\n",
       "        vertical-align: top;\n",
       "    }\n",
       "\n",
       "    .dataframe thead th {\n",
       "        text-align: right;\n",
       "    }\n",
       "</style>\n",
       "<table border=\"1\" class=\"dataframe\">\n",
       "  <thead>\n",
       "    <tr style=\"text-align: right;\">\n",
       "      <th></th>\n",
       "      <th>Accident Report</th>\n",
       "      <th>Primary Cause</th>\n",
       "      <th>Secondary Cause</th>\n",
       "      <th>Risk Factor</th>\n",
       "      <th>Processed Report</th>\n",
       "    </tr>\n",
       "  </thead>\n",
       "  <tbody>\n",
       "    <tr>\n",
       "      <th>0</th>\n",
       "      <td>On 19 Sep 2023, at 02:43 AM, a Jeep collided w...</td>\n",
       "      <td>Wrong side driving</td>\n",
       "      <td>Seatbelt Violation</td>\n",
       "      <td>Medium</td>\n",
       "      <td>19 sep 2023 0243 jeep collide pedestrian nh66 ...</td>\n",
       "    </tr>\n",
       "    <tr>\n",
       "      <th>1</th>\n",
       "      <td>On 08 Jul 2023, at 10:29 AM, a two-wheeler col...</td>\n",
       "      <td>Drunk driving</td>\n",
       "      <td>No Violation</td>\n",
       "      <td>High</td>\n",
       "      <td>08 jul 2023 1029 twowheeler collide pedestrian...</td>\n",
       "    </tr>\n",
       "    <tr>\n",
       "      <th>2</th>\n",
       "      <td>On 12 Oct 2023, at 11:07 PM, a car collided wi...</td>\n",
       "      <td>Distracted driving</td>\n",
       "      <td>No Violation</td>\n",
       "      <td>High</td>\n",
       "      <td>12 oct 2023 1107 pm car collide pedestrian nh5...</td>\n",
       "    </tr>\n",
       "    <tr>\n",
       "      <th>3</th>\n",
       "      <td>On 06 May 2023, at 07:51 PM, a truck collided ...</td>\n",
       "      <td>Distracted driving</td>\n",
       "      <td>Seatbelt Violation</td>\n",
       "      <td>High</td>\n",
       "      <td>06 may 2023 0751 pm truck collide pedestrian n...</td>\n",
       "    </tr>\n",
       "    <tr>\n",
       "      <th>4</th>\n",
       "      <td>On 12 Nov 2024, at 06:02 PM, a Jeep collided w...</td>\n",
       "      <td>Vehicle malfunction</td>\n",
       "      <td>No Violation</td>\n",
       "      <td>High</td>\n",
       "      <td>12 nov 2024 0602 pm jeep collide pedestrian nh...</td>\n",
       "    </tr>\n",
       "  </tbody>\n",
       "</table>\n",
       "</div>"
      ],
      "text/plain": [
       "                                     Accident Report        Primary Cause  \\\n",
       "0  On 19 Sep 2023, at 02:43 AM, a Jeep collided w...   Wrong side driving   \n",
       "1  On 08 Jul 2023, at 10:29 AM, a two-wheeler col...        Drunk driving   \n",
       "2  On 12 Oct 2023, at 11:07 PM, a car collided wi...   Distracted driving   \n",
       "3  On 06 May 2023, at 07:51 PM, a truck collided ...   Distracted driving   \n",
       "4  On 12 Nov 2024, at 06:02 PM, a Jeep collided w...  Vehicle malfunction   \n",
       "\n",
       "      Secondary Cause Risk Factor  \\\n",
       "0  Seatbelt Violation      Medium   \n",
       "1        No Violation        High   \n",
       "2        No Violation        High   \n",
       "3  Seatbelt Violation        High   \n",
       "4        No Violation        High   \n",
       "\n",
       "                                    Processed Report  \n",
       "0  19 sep 2023 0243 jeep collide pedestrian nh66 ...  \n",
       "1  08 jul 2023 1029 twowheeler collide pedestrian...  \n",
       "2  12 oct 2023 1107 pm car collide pedestrian nh5...  \n",
       "3  06 may 2023 0751 pm truck collide pedestrian n...  \n",
       "4  12 nov 2024 0602 pm jeep collide pedestrian nh...  "
      ]
     },
     "metadata": {},
     "output_type": "display_data"
    }
   ],
   "source": [
    "cleaned_data_path= os.path.join(\"..\", \"data\", \"raw\", \"cleaned_processed_data.csv\")\n",
    "df.to_csv(cleaned_data_path, index=False)\n",
    "df = pd.read_csv(cleaned_data_path)\n",
    "display(df.head())"
   ]
  },
  {
   "cell_type": "markdown",
   "metadata": {},
   "source": [
    "# Convert Text into Numeric Features(Vectors)\n",
    "#### TF-IDF vectorization|"
   ]
  },
  {
   "cell_type": "code",
   "execution_count": 11,
   "metadata": {},
   "outputs": [
    {
     "data": {
      "text/plain": [
       "['vectorizer.pkl']"
      ]
     },
     "execution_count": 11,
     "metadata": {},
     "output_type": "execute_result"
    }
   ],
   "source": [
    "from sklearn.feature_extraction.text import TfidfVectorizer\n",
    "from sklearn.preprocessing import LabelEncoder\n",
    "\n",
    "# Convert text to TF-IDF features\n",
    "vectorizer = TfidfVectorizer(max_features=5000, ngram_range=(1, 2))  # Limit features for efficiency\n",
    "X = vectorizer.fit_transform(df['Processed Report'])\n",
    "\n",
    "# Save vectorizer\n",
    "joblib.dump(vectorizer, 'vectorizer.pkl')"
   ]
  },
  {
   "cell_type": "markdown",
   "metadata": {},
   "source": [
    "# Label encoding targets"
   ]
  },
  {
   "cell_type": "code",
   "execution_count": 12,
   "metadata": {},
   "outputs": [
    {
     "name": "stdout",
     "output_type": "stream",
     "text": [
      "Encoded primary cause classes are: ['Distracted driving' 'Drunk driving' 'Over-speeding' 'Red light jumping'\n",
      " 'Road conditions' 'Traffic rule violation' 'Vehicle malfunction'\n",
      " 'Weather conditions' 'Wrong side driving']\n",
      "Encoded secondary cause classes are: ['Helmet Violation' 'No Violation' 'Seatbelt Violation']\n",
      "Encoded risk factors are: ['High' 'Medium']\n"
     ]
    }
   ],
   "source": [
    "# Encode target labels\n",
    "from sklearn.preprocessing import LabelEncoder\n",
    "\n",
    "# Encode labels\n",
    "label_encoder_primary = LabelEncoder()\n",
    "y_primary = label_encoder_primary.fit_transform(df['Primary Cause'])\n",
    "\n",
    "label_encoder_secondary = LabelEncoder()\n",
    "y_secondary = label_encoder_secondary.fit_transform(df['Secondary Cause'])\n",
    "\n",
    "label_encoder_risk = LabelEncoder()\n",
    "y_risk = label_encoder_risk.fit_transform(df['Risk Factor'])\n",
    "\n",
    "# Save encoders\n",
    "joblib.dump(label_encoder_primary, 'label_encoder_primary.pkl')\n",
    "joblib.dump(label_encoder_secondary, 'label_encoder_secondary.pkl')\n",
    "joblib.dump(label_encoder_risk, 'label_encoder_risk.pkl')\n",
    "\n",
    "# Display encoded values\n",
    "print('Encoded primary cause classes are:',label_encoder_primary.classes_)  # Shows mapping of classes\n",
    "print('Encoded secondary cause classes are:',label_encoder_secondary.classes_)  # Shows mapping of classes\n",
    "print('Encoded risk factors are:',label_encoder_risk.classes_)  # Shows mapping of classes"
   ]
  },
  {
   "cell_type": "markdown",
   "metadata": {},
   "source": [
    "# Save 'X' and 'y_primary'"
   ]
  },
  {
   "cell_type": "code",
   "execution_count": 13,
   "metadata": {},
   "outputs": [
    {
     "name": "stdout",
     "output_type": "stream",
     "text": [
      "Saved X_sparse.npz successfully!\n"
     ]
    }
   ],
   "source": [
    "import numpy as np\n",
    "\n",
    "# Save sparse matrix\n",
    "np.savez_compressed(\"X_sparse.npz\", data=X.data, indices=X.indices, indptr=X.indptr, shape=X.shape)\n",
    "\n",
    "print(\"Saved X_sparse.npz successfully!\")\n"
   ]
  },
  {
   "cell_type": "code",
   "execution_count": 14,
   "metadata": {},
   "outputs": [
    {
     "name": "stdout",
     "output_type": "stream",
     "text": [
      "<class 'numpy.ndarray'>\n",
      "1\n"
     ]
    }
   ],
   "source": [
    "print(type(y_primary))\n",
    "print(y_primary.ndim)"
   ]
  },
  {
   "cell_type": "code",
   "execution_count": 15,
   "metadata": {},
   "outputs": [],
   "source": [
    "pd.Series(y_primary).to_csv(\"y_primary.csv\", index=False)\n",
    "pd.Series(y_secondary).to_csv(\"y_secondary.csv\", index=False)\n",
    "pd.Series(y_risk).to_csv(\"y_risk.csv\", index=False)"
   ]
  }
 ],
 "metadata": {
  "kernelspec": {
   "display_name": ".venv",
   "language": "python",
   "name": "python3"
  },
  "language_info": {
   "codemirror_mode": {
    "name": "ipython",
    "version": 3
   },
   "file_extension": ".py",
   "mimetype": "text/x-python",
   "name": "python",
   "nbconvert_exporter": "python",
   "pygments_lexer": "ipython3",
   "version": "3.12.6"
  }
 },
 "nbformat": 4,
 "nbformat_minor": 2
}
