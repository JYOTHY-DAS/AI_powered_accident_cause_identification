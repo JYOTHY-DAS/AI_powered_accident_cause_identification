{
 "cells": [
  {
   "cell_type": "markdown",
   "metadata": {},
   "source": [
    "# Model evaluation"
   ]
  },
  {
   "cell_type": "markdown",
   "metadata": {},
   "source": [
    "### Import required libraries"
   ]
  },
  {
   "cell_type": "code",
   "execution_count": 1,
   "metadata": {},
   "outputs": [],
   "source": [
    "from sklearn.metrics import accuracy_score, classification_report\n",
    "import joblib\n",
    "import pandas as pd"
   ]
  },
  {
   "cell_type": "markdown",
   "metadata": {},
   "source": [
    "#### Load test data"
   ]
  },
  {
   "cell_type": "code",
   "execution_count": 2,
   "metadata": {},
   "outputs": [],
   "source": [
    "# Load trained models\n",
    "model_primary = joblib.load('accident_model_primary.pkl')\n",
    "model_secondary = joblib.load('accident_model_secondary.pkl')\n",
    "model_risk = joblib.load('accident_model_risk.pkl')\n",
    "\n",
    "# Load encoders\n",
    "label_encoder_primary = joblib.load('label_encoder_primary.pkl')\n",
    "label_encoder_secondary = joblib.load('label_encoder_secondary.pkl')\n",
    "label_encoder_risk = joblib.load('label_encoder_risk.pkl')\n",
    "\n",
    "# Load vectorizer\n",
    "vectorizer = joblib.load('vectorizer.pkl')\n",
    "\n",
    "#Load X_test and y_test\n",
    "X_test_file=pd.read_csv('X_test.csv')\n",
    "X_test = X_test_file.to_numpy()  # Convert to NumPy array\n",
    "\n",
    "y_test_primary=pd.read_csv('y_test_primary.csv')\n",
    "y_test_secondary=pd.read_csv('y_test_secondary.csv')\n",
    "y_test_risk=pd.read_csv('y_test_risk.csv')"
   ]
  },
  {
   "cell_type": "markdown",
   "metadata": {},
   "source": [
    "### Evaluate primary cause model"
   ]
  },
  {
   "cell_type": "code",
   "execution_count": 3,
   "metadata": {},
   "outputs": [
    {
     "name": "stdout",
     "output_type": "stream",
     "text": [
      "Primary Cause Model Evaluation:\n",
      "Accuracy: 1.0\n",
      "                        precision    recall  f1-score   support\n",
      "\n",
      "    Distracted driving       1.00      1.00      1.00       428\n",
      "         Drunk driving       1.00      1.00      1.00       442\n",
      "         Over-speeding       1.00      1.00      1.00       451\n",
      "     Red light jumping       1.00      1.00      1.00       450\n",
      "       Road conditions       1.00      1.00      1.00       461\n",
      "Traffic rule violation       1.00      1.00      1.00       459\n",
      "   Vehicle malfunction       1.00      1.00      1.00       414\n",
      "    Weather conditions       1.00      1.00      1.00       436\n",
      "    Wrong side driving       1.00      1.00      1.00       459\n",
      "\n",
      "              accuracy                           1.00      4000\n",
      "             macro avg       1.00      1.00      1.00      4000\n",
      "          weighted avg       1.00      1.00      1.00      4000\n",
      "\n"
     ]
    }
   ],
   "source": [
    "y_pred_primary = model_primary.predict(X_test) \n",
    "\n",
    "print(\"Primary Cause Model Evaluation:\")\n",
    "print(\"Accuracy:\", accuracy_score(y_test_primary, y_pred_primary))\n",
    "print(classification_report(y_test_primary, y_pred_primary, target_names=label_encoder_primary.classes_))\n"
   ]
  },
  {
   "cell_type": "markdown",
   "metadata": {},
   "source": [
    "### Evaluate Secondary Cause Model"
   ]
  },
  {
   "cell_type": "code",
   "execution_count": 4,
   "metadata": {},
   "outputs": [
    {
     "name": "stdout",
     "output_type": "stream",
     "text": [
      "Secondary Cause Model Evaluation:\n",
      "Accuracy: 0.72025\n",
      "                    precision    recall  f1-score   support\n",
      "\n",
      "  Helmet Violation       0.00      0.00      0.00       287\n",
      "      No Violation       0.72      1.00      0.84      2881\n",
      "Seatbelt Violation       0.00      0.00      0.00       832\n",
      "\n",
      "          accuracy                           0.72      4000\n",
      "         macro avg       0.24      0.33      0.28      4000\n",
      "      weighted avg       0.52      0.72      0.60      4000\n",
      "\n"
     ]
    },
    {
     "name": "stderr",
     "output_type": "stream",
     "text": [
      "d:\\ICT Academy\\Internship\\AI_powered_accident_cause_identification\\notebooks\\.venv\\Lib\\site-packages\\sklearn\\metrics\\_classification.py:1565: UndefinedMetricWarning: Precision is ill-defined and being set to 0.0 in labels with no predicted samples. Use `zero_division` parameter to control this behavior.\n",
      "  _warn_prf(average, modifier, f\"{metric.capitalize()} is\", len(result))\n",
      "d:\\ICT Academy\\Internship\\AI_powered_accident_cause_identification\\notebooks\\.venv\\Lib\\site-packages\\sklearn\\metrics\\_classification.py:1565: UndefinedMetricWarning: Precision is ill-defined and being set to 0.0 in labels with no predicted samples. Use `zero_division` parameter to control this behavior.\n",
      "  _warn_prf(average, modifier, f\"{metric.capitalize()} is\", len(result))\n",
      "d:\\ICT Academy\\Internship\\AI_powered_accident_cause_identification\\notebooks\\.venv\\Lib\\site-packages\\sklearn\\metrics\\_classification.py:1565: UndefinedMetricWarning: Precision is ill-defined and being set to 0.0 in labels with no predicted samples. Use `zero_division` parameter to control this behavior.\n",
      "  _warn_prf(average, modifier, f\"{metric.capitalize()} is\", len(result))\n"
     ]
    }
   ],
   "source": [
    "y_pred_secondary = model_secondary.predict(X_test)  # Convert sparse to dense\n",
    "print(\"Secondary Cause Model Evaluation:\")\n",
    "print(\"Accuracy:\", accuracy_score(y_test_secondary, y_pred_secondary))\n",
    "print(classification_report(y_test_secondary, y_pred_secondary, target_names=label_encoder_secondary.classes_))"
   ]
  },
  {
   "cell_type": "markdown",
   "metadata": {},
   "source": [
    "### Evaluate Risk Factor Model"
   ]
  },
  {
   "cell_type": "code",
   "execution_count": 5,
   "metadata": {},
   "outputs": [
    {
     "name": "stdout",
     "output_type": "stream",
     "text": [
      "\n",
      " Risk Factor Model Evaluation:\n",
      "Accuracy: 0.79075\n",
      "              precision    recall  f1-score   support\n",
      "\n",
      "        High       0.75      0.98      0.85      2410\n",
      "      Medium       0.94      0.51      0.66      1590\n",
      "\n",
      "    accuracy                           0.79      4000\n",
      "   macro avg       0.84      0.74      0.75      4000\n",
      "weighted avg       0.82      0.79      0.77      4000\n",
      "\n"
     ]
    }
   ],
   "source": [
    "y_pred_risk = model_risk.predict(X_test)\n",
    "\n",
    "print(\"\\n Risk Factor Model Evaluation:\")\n",
    "print(\"Accuracy:\", accuracy_score(y_test_risk, y_pred_risk))\n",
    "print(classification_report(y_test_risk, y_pred_risk, target_names=label_encoder_risk.classes_))\n"
   ]
  }
 ],
 "metadata": {
  "kernelspec": {
   "display_name": ".venv",
   "language": "python",
   "name": "python3"
  },
  "language_info": {
   "codemirror_mode": {
    "name": "ipython",
    "version": 3
   },
   "file_extension": ".py",
   "mimetype": "text/x-python",
   "name": "python",
   "nbconvert_exporter": "python",
   "pygments_lexer": "ipython3",
   "version": "3.12.6"
  }
 },
 "nbformat": 4,
 "nbformat_minor": 2
}
