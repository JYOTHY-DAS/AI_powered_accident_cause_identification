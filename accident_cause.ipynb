{
 "cells": [
  {
   "cell_type": "markdown",
   "metadata": {},
   "source": [
    "## Import library files"
   ]
  },
  {
   "cell_type": "code",
   "execution_count": 9,
   "metadata": {},
   "outputs": [],
   "source": [
    "import pandas as pd\n",
    "import re\n",
    "import spacy\n",
    "from nltk.corpus import stopwords"
   ]
  },
  {
   "cell_type": "markdown",
   "metadata": {},
   "source": [
    "## Load data"
   ]
  },
  {
   "cell_type": "code",
   "execution_count": 10,
   "metadata": {},
   "outputs": [
    {
     "data": {
      "text/html": [
       "<div>\n",
       "<style scoped>\n",
       "    .dataframe tbody tr th:only-of-type {\n",
       "        vertical-align: middle;\n",
       "    }\n",
       "\n",
       "    .dataframe tbody tr th {\n",
       "        vertical-align: top;\n",
       "    }\n",
       "\n",
       "    .dataframe thead th {\n",
       "        text-align: right;\n",
       "    }\n",
       "</style>\n",
       "<table border=\"1\" class=\"dataframe\">\n",
       "  <thead>\n",
       "    <tr style=\"text-align: right;\">\n",
       "      <th></th>\n",
       "      <th>Accident Report</th>\n",
       "      <th>Primary Cause</th>\n",
       "      <th>Secondary Cause</th>\n",
       "      <th>Risk Factor</th>\n",
       "    </tr>\n",
       "  </thead>\n",
       "  <tbody>\n",
       "    <tr>\n",
       "      <th>0</th>\n",
       "      <td>On 11 Sep 2024, at 10:51 AM, a bicycle collide...</td>\n",
       "      <td>Drunk driving</td>\n",
       "      <td>NaN</td>\n",
       "      <td>High</td>\n",
       "    </tr>\n",
       "    <tr>\n",
       "      <th>1</th>\n",
       "      <td>On 11 May 2024, at 10:09 AM, a auto-rickshaw c...</td>\n",
       "      <td>Over-speeding</td>\n",
       "      <td>NaN</td>\n",
       "      <td>High</td>\n",
       "    </tr>\n",
       "    <tr>\n",
       "      <th>2</th>\n",
       "      <td>On 22 Oct 2023, at 10:16 PM, a Jeep collided w...</td>\n",
       "      <td>Other</td>\n",
       "      <td>NaN</td>\n",
       "      <td>High</td>\n",
       "    </tr>\n",
       "    <tr>\n",
       "      <th>3</th>\n",
       "      <td>On 12 Aug 2024, at 01:40 PM, a auto-rickshaw c...</td>\n",
       "      <td>Other</td>\n",
       "      <td>NaN</td>\n",
       "      <td>High</td>\n",
       "    </tr>\n",
       "    <tr>\n",
       "      <th>4</th>\n",
       "      <td>On 29 May 2024, at 10:54 PM, a two-wheeler col...</td>\n",
       "      <td>Distracted driving</td>\n",
       "      <td>NaN</td>\n",
       "      <td>High</td>\n",
       "    </tr>\n",
       "  </tbody>\n",
       "</table>\n",
       "</div>"
      ],
      "text/plain": [
       "                                     Accident Report       Primary Cause  \\\n",
       "0  On 11 Sep 2024, at 10:51 AM, a bicycle collide...       Drunk driving   \n",
       "1  On 11 May 2024, at 10:09 AM, a auto-rickshaw c...       Over-speeding   \n",
       "2  On 22 Oct 2023, at 10:16 PM, a Jeep collided w...               Other   \n",
       "3  On 12 Aug 2024, at 01:40 PM, a auto-rickshaw c...               Other   \n",
       "4  On 29 May 2024, at 10:54 PM, a two-wheeler col...  Distracted driving   \n",
       "\n",
       "  Secondary Cause Risk Factor  \n",
       "0             NaN        High  \n",
       "1             NaN        High  \n",
       "2             NaN        High  \n",
       "3             NaN        High  \n",
       "4             NaN        High  "
      ]
     },
     "metadata": {},
     "output_type": "display_data"
    },
    {
     "name": "stdout",
     "output_type": "stream",
     "text": [
      "(20000, 4)\n"
     ]
    }
   ],
   "source": [
    "df = pd.read_csv('supervised_accident_data.csv')\n",
    "display(df.head())\n",
    "print(df.shape)\n"
   ]
  },
  {
   "cell_type": "markdown",
   "metadata": {},
   "source": [
    "## Remove duplicates and missing values"
   ]
  },
  {
   "cell_type": "code",
   "execution_count": 11,
   "metadata": {},
   "outputs": [
    {
     "name": "stdout",
     "output_type": "stream",
     "text": [
      "Accident Report        0\n",
      "Primary Cause          0\n",
      "Secondary Cause    14410\n",
      "Risk Factor            0\n",
      "dtype: int64\n",
      "0\n"
     ]
    }
   ],
   "source": [
    "print(df.isnull().sum())\n",
    "print(df.duplicated().sum())"
   ]
  },
  {
   "cell_type": "markdown",
   "metadata": {},
   "source": [
    "# NLP Text cleaning"
   ]
  },
  {
   "cell_type": "code",
   "execution_count": 15,
   "metadata": {},
   "outputs": [],
   "source": [
    "nlp= spacy.load(\"en_core_web_sm\")\n",
    "# Preprocessing function\n",
    "def preprocess_text(text):\n",
    "    text = text.lower()\n",
    "    text = re.sub(r'[^\\w\\s]', '', text)  # Remove punctuation\n",
    "    doc = nlp(text)\n",
    "    words = [token.lemma_.lower() for token in doc if token.text.lower() not in stopwords.words('english')]\n",
    "    return \" \".join(words)\n"
   ]
  },
  {
   "cell_type": "code",
   "execution_count": 16,
   "metadata": {},
   "outputs": [
    {
     "name": "stdout",
     "output_type": "stream",
     "text": [
      "                                     Accident Report       Primary Cause  \\\n",
      "0  On 11 Sep 2024, at 10:51 AM, a bicycle collide...       Drunk driving   \n",
      "1  On 11 May 2024, at 10:09 AM, a auto-rickshaw c...       Over-speeding   \n",
      "2  On 22 Oct 2023, at 10:16 PM, a Jeep collided w...               Other   \n",
      "3  On 12 Aug 2024, at 01:40 PM, a auto-rickshaw c...               Other   \n",
      "4  On 29 May 2024, at 10:54 PM, a two-wheeler col...  Distracted driving   \n",
      "\n",
      "  Secondary Cause Risk Factor  \\\n",
      "0             NaN        High   \n",
      "1             NaN        High   \n",
      "2             NaN        High   \n",
      "3             NaN        High   \n",
      "4             NaN        High   \n",
      "\n",
      "                                    Processed Report  \n",
      "0  11 sep 2024 1051 bicycle collide pedestrian nh...  \n",
      "1  11 may 2024 1009 autorickshaw collide pedestri...  \n",
      "2  22 oct 2023 1016 pm jeep collide pedestrian nh...  \n",
      "3  12 aug 2024 0140 pm autorickshaw collide pedes...  \n",
      "4  29 may 2024 1054 pm twowheeler collide pedestr...  \n"
     ]
    }
   ],
   "source": [
    "# Apply text preprocessing\n",
    "df['Processed Report'] = df['Accident Report'].apply(preprocess_text)\n",
    "\n",
    "# Display sample data\n",
    "print(df.head())\n"
   ]
  },
  {
   "cell_type": "code",
   "execution_count": 14,
   "metadata": {},
   "outputs": [],
   "source": [
    "df.to_csv('cleaned_processed_data.csv', index=False)\n"
   ]
  },
  {
   "cell_type": "code",
   "execution_count": null,
   "metadata": {},
   "outputs": [],
   "source": []
  }
 ],
 "metadata": {
  "kernelspec": {
   "display_name": ".venv",
   "language": "python",
   "name": "python3"
  },
  "language_info": {
   "codemirror_mode": {
    "name": "ipython",
    "version": 3
   },
   "file_extension": ".py",
   "mimetype": "text/x-python",
   "name": "python",
   "nbconvert_exporter": "python",
   "pygments_lexer": "ipython3",
   "version": "3.12.6"
  }
 },
 "nbformat": 4,
 "nbformat_minor": 2
}
